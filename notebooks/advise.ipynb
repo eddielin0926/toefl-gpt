{
 "cells": [
  {
   "cell_type": "code",
   "execution_count": 48,
   "metadata": {},
   "outputs": [],
   "source": [
    "import semantic_kernel as sk\n",
    "from semantic_kernel.connectors.ai.open_ai import AzureTextCompletion, OpenAITextCompletion"
   ]
  },
  {
   "cell_type": "code",
   "execution_count": 49,
   "metadata": {},
   "outputs": [],
   "source": [
    "kernel = sk.Kernel()\n",
    "\n",
    "useAzureOpenAI = False\n",
    "\n",
    "# Configure AI service used by the kernel\n",
    "if useAzureOpenAI:\n",
    "    deployment, api_key, endpoint = sk.azure_openai_settings_from_dot_env()\n",
    "    kernel.add_text_completion_service(\"dv\", AzureTextCompletion(deployment, endpoint, api_key))\n",
    "else:\n",
    "    api_key, org_id = sk.openai_settings_from_dot_env()\n",
    "    kernel.add_text_completion_service(\"dv\", OpenAITextCompletion(\"text-davinci-003\", api_key, org_id))"
   ]
  },
  {
   "cell_type": "code",
   "execution_count": 50,
   "metadata": {},
   "outputs": [],
   "source": [
    "# note: using skills from the samples folder\n",
    "skills_directory = \"../skills\"\n",
    "\n",
    "toeflFunctions = kernel.import_semantic_skill_from_directory(skills_directory, \"ToeflSkill\")\n",
    "\n",
    "adviseFunction = toeflFunctions[\"Advise\"]"
   ]
  },
  {
   "cell_type": "code",
   "execution_count": 51,
   "metadata": {},
   "outputs": [],
   "source": [
    "context = kernel.create_new_context()"
   ]
  },
  {
   "cell_type": "code",
   "execution_count": 52,
   "metadata": {},
   "outputs": [],
   "source": [
    "context[\"question\"] = \"\"\"\n",
    "Do you agree or disagree with the following statement?\n",
    "Governments should spend more money in support of the arts than in support of athletics such as state-sponsored Olympic teams.\n",
    "Use specific reasons and examples to support your answer.\n",
    "\"\"\""
   ]
  },
  {
   "cell_type": "code",
   "execution_count": 53,
   "metadata": {},
   "outputs": [],
   "source": [
    "context[\"answer\"] = \"\"\"\n",
    "Participating and winning medals in Olympic Games is the final goal for almost all the athletes and watching nation\\'s teams gain good results in the Olympic Games is the most exciting and proud moment for all citizens. There is no doubt that with more funds, teams will be more likely to achieve better grades in international competitions, and I completely agree that the government should invest more on athletes. But we should not undermine the importance of arts at the same time.\n",
    "\n",
    "To start with, funding in athletes can be beneficial to the country image. Establishing an outstanding sports team is extremely costly, and the money can be spent in various ways to improve the team condition. For instance, buying high-quality training facilities can protect athletics from being injured and increase the training efficiency. Hence, the fund from the government can increase the possibilities for the team to gain gold medals in international competitions, which not only the team can bring glory to the country and people, the international image of the national can also be largely lifted.\n",
    "\n",
    "On top of that, seeing the nation\\'s team gain good results in international competitions can motivate more people to play sports and do exercises, which can increase the citizens\\' health level. My personal experience is a compelling example of this. In my primary school age, I hated doing sports and I always got sick, but things changed after I became a huge fan of Chinese swimming team after watching the 2008 Olympic Games. Since then, I started to go swimming every weekend until now. Although I did not become as good as them, I become much healthier and seldom get sick.\n",
    "\n",
    "I cannot deny that arts can also represent the image of a country and investing on arts can improve citizens\\' aesthetic level. However, people normally pay less attention on arts than sports, and artists have more ways to gather funds, like through donations from art organizations. Therefore, it is more crucial to invest more in athletes.\n",
    "\n",
    "Consequently, I am of the opinion that governments should invest more in support of athletes. This is because the enhancement of sports teams can bring glory to the country, and more citizens will be encouraged to participate in exercising and promote the overall health level.\n",
    "\"\"\""
   ]
  },
  {
   "cell_type": "code",
   "execution_count": 54,
   "metadata": {},
   "outputs": [
    {
     "name": "stdout",
     "output_type": "stream",
     "text": [
      "- Make sure you directly address the prompt. The prompt asks whether governments should spend more money on arts or athletics, but you argue that they should invest more in athletes while acknowledging the importance of arts. You could make your argument stronger by explaining why you think athletics are more important than arts.\n",
      "- Use more specific examples to support your argument. For example, you could mention specific Olympic teams that have brought glory to their countries and explain how this has impacted their international image.\n",
      "- Consider addressing counterarguments in your essay. For example, some people might argue that investing in the arts can also bring economic benefits by attracting tourists and creating jobs. You could acknowledge this point of view and explain why you still believe athletics are more important.\n",
      "- Be careful with grammar and spelling errors. For example, you wrote \"seeing the nation's team gain good results\" instead of \"seeing the national team achieve good results.\" \n",
      "- Try to vary your sentence structure more. Many of your sentences start with \"funding in athletes\" or \"seeing the nation's team,\" which can make the essay sound repetitive. You can try using different sentence structures or rephrasing some of your ideas to avoid repetition.\n",
      "\n",
      "\n"
     ]
    }
   ],
   "source": [
    "bot_advise = await adviseFunction.invoke_async(context=context)\n",
    "print(bot_advise)"
   ]
  }
 ],
 "metadata": {
  "kernelspec": {
   "display_name": ".venv",
   "language": "python",
   "name": "python3"
  },
  "language_info": {
   "codemirror_mode": {
    "name": "ipython",
    "version": 3
   },
   "file_extension": ".py",
   "mimetype": "text/x-python",
   "name": "python",
   "nbconvert_exporter": "python",
   "pygments_lexer": "ipython3",
   "version": "3.9.16"
  },
  "orig_nbformat": 4
 },
 "nbformat": 4,
 "nbformat_minor": 2
}
