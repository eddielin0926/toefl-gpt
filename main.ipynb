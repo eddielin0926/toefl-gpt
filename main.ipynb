{
 "cells": [
  {
   "cell_type": "code",
   "execution_count": 36,
   "metadata": {},
   "outputs": [],
   "source": [
    "import semantic_kernel as sk\n",
    "from semantic_kernel.connectors.ai.open_ai import AzureTextCompletion"
   ]
  },
  {
   "cell_type": "code",
   "execution_count": 37,
   "metadata": {},
   "outputs": [
    {
     "data": {
      "text/plain": [
       "<semantic_kernel.kernel.Kernel at 0x2e87ebe2130>"
      ]
     },
     "execution_count": 37,
     "metadata": {},
     "output_type": "execute_result"
    }
   ],
   "source": [
    "kernel = sk.Kernel()\n",
    "deployment, api_key, endpoint = sk.azure_openai_settings_from_dot_env()\n",
    "kernel.add_text_completion_service(\"dv\", AzureTextCompletion(deployment, endpoint, api_key))"
   ]
  },
  {
   "cell_type": "code",
   "execution_count": 38,
   "metadata": {},
   "outputs": [],
   "source": [
    "# note: using skills from the samples folder\n",
    "skills_directory = \"skills\"\n",
    "\n",
    "toeflFunctions = kernel.import_semantic_skill_from_directory(skills_directory, \"ToeflSkill\")\n",
    "\n",
    "adviseFunction = toeflFunctions[\"Advise\"]"
   ]
  },
  {
   "cell_type": "code",
   "execution_count": 39,
   "metadata": {},
   "outputs": [],
   "source": [
    "context = kernel.create_new_context()"
   ]
  },
  {
   "cell_type": "code",
   "execution_count": 40,
   "metadata": {},
   "outputs": [],
   "source": [
    "context[\"question\"] = \"\"\"\n",
    "Do you agree or disagree with the following statement?\n",
    "Governments should spend more money in support of the arts than in support of athletics such as state-sponsored Olympic teams.\n",
    "Use specific reasons and examples to support your answer.\n",
    "\"\"\""
   ]
  },
  {
   "cell_type": "code",
   "execution_count": 41,
   "metadata": {},
   "outputs": [],
   "source": [
    "context[\"answer\"] = \"\"\"\n",
    "Spending money on athletes or art masterpieces can both result in total elevation of public cultural quality. Based on the aforementioned fact, the distribution of the money cause incessant arguments since both parties need larger part of the funds. For me, I agree with the idea paying more money on preserving and restoring art pieces. Artworks ranging from the past centuries to recent decades of substantial cultural meanings reflects various perspectives and philosophies.\n",
    "First, because of the fragile nature of every artworks, many masterpieces are suspect to corruption and deprecation, urges the public to make relentless efforts to protect the paintings and sculptures from being eroded and destroyed. That is, the process of saving art demands massive amount of money, leaving less portion of the capital for the sports association to pay for the athletes and the workers. For example, the legendary artist Da VinCi portrayed the renowned painting \" The Mona Lisa's smile\", leading to tens of thousands of people captivated by the charm inside the masterpiece, is being preserved and maintained in Paris causing tons of money being spent.\n",
    "Second, artworks are paths to introspect what's really happening in the era that the art was completed. Without art pieces preserved for the later people to scrutinize and analyze the context between themselves, we cannot really understand the history and the thoughts of the past. For example, in Renaissance era, artists finished a myriad of paintings and sculptures in order to pay respect to theirs gods and the citadel. Given the historic items we discovered around this era, we can utilize the evidence we found to determine what was the mai religion of their time.\n",
    "\n",
    "Finally, spending money on sports team and competitions are futile for the human no matter the aesthetic point of view or the pragmatic counterpart. Owing to the fact that sports are participated in living people which are mostly replaceable. In sharp contrast, we cannot revive the dead artists to recreate what was accomplished centuries ago, thus we must make sure the art is preserved for the later people.\n",
    "In conclusion, I strongly agree with the idea of paying more money to art rather than giving money away to the sports companies.\n",
    "\"\"\""
   ]
  },
  {
   "cell_type": "code",
   "execution_count": 42,
   "metadata": {},
   "outputs": [
    {
     "name": "stdout",
     "output_type": "stream",
     "text": [
      "1. The essay is well organized and well-written. However, it would be better if the writer could add more specific examples to support his/her arguments.\n",
      "2. The writer should use more academic words and phrases to make the essay sound more formal.\n",
      "3. The writer should pay attention to grammar and sentence structure. For example, in the first sentence of the second paragraph, \"suspect\" should be replaced with \"subject\".\n",
      "4. The writer should avoid using contractions such as \"it's\" and \"don't\". Instead, he/she should use the full forms \"it is\" and \"do not\".\n",
      "5. In the last paragraph, the writer could provide a counterargument and refute it to make his/her argument stronger.\n",
      "6. In the second paragraph, instead of saying \"we cannot really understand\", the writer could say \"our understanding of\".\n",
      "7. In the third paragraph, instead of saying \"giving money away\", the writer could say \"allocating funds\". \n",
      "8. Example: Instead of saying \"many masterpieces are suspect to corruption\", the writer could say \"many masterpieces are subject to decay and damage\". \n",
      "9. Example: Instead of saying \"we cannot revive the dead artists\", the writer could say \"the deceased artists cannot be resurrected\". \n",
      "10. Example: Instead of saying \"sports are participated in living people which are mostly replaceable\", the writer could say \"sports involve living individuals who are often replaceable\". \n",
      "\n",
      "Overall, this is a strong essay with clear arguments and examples supporting its position on spending money on art over athletics. With some minor revisions for grammar and vocabulary, as well as additional examples and counterarguments, this essay would be even stronger.\n"
     ]
    }
   ],
   "source": [
    "bot_advise = await adviseFunction.invoke_async(context=context)\n",
    "print(bot_advise)"
   ]
  }
 ],
 "metadata": {
  "kernelspec": {
   "display_name": ".venv",
   "language": "python",
   "name": "python3"
  },
  "language_info": {
   "codemirror_mode": {
    "name": "ipython",
    "version": 3
   },
   "file_extension": ".py",
   "mimetype": "text/x-python",
   "name": "python",
   "nbconvert_exporter": "python",
   "pygments_lexer": "ipython3",
   "version": "3.9.12"
  },
  "orig_nbformat": 4
 },
 "nbformat": 4,
 "nbformat_minor": 2
}
