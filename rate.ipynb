{
 "cells": [
  {
   "cell_type": "code",
   "execution_count": 4,
   "metadata": {},
   "outputs": [],
   "source": [
    "import semantic_kernel as sk\n",
    "from semantic_kernel.connectors.ai.open_ai import AzureTextCompletion, OpenAITextCompletion"
   ]
  },
  {
   "cell_type": "code",
   "execution_count": 5,
   "metadata": {},
   "outputs": [],
   "source": [
    "kernel = sk.Kernel()\n",
    "\n",
    "useAzureOpenAI = True\n",
    "\n",
    "# Configure AI service used by the kernel\n",
    "if useAzureOpenAI:\n",
    "    deployment, api_key, endpoint = sk.azure_openai_settings_from_dot_env()\n",
    "    kernel.add_text_completion_service(\"dv\", AzureTextCompletion(deployment, endpoint, api_key))\n",
    "else:\n",
    "    api_key, org_id = sk.openai_settings_from_dot_env()\n",
    "    kernel.add_text_completion_service(\"dv\", OpenAITextCompletion(\"text-davinci-003\", api_key, org_id))"
   ]
  },
  {
   "cell_type": "code",
   "execution_count": 6,
   "metadata": {},
   "outputs": [],
   "source": [
    "# note: using skills from the samples folder\n",
    "skills_directory = \"skills\"\n",
    "\n",
    "toeflFunctions = kernel.import_semantic_skill_from_directory(skills_directory, \"ToeflSkill\")\n",
    "\n",
    "rateFunction = toeflFunctions[\"Rate\"]"
   ]
  },
  {
   "cell_type": "code",
   "execution_count": 7,
   "metadata": {},
   "outputs": [],
   "source": [
    "context = kernel.create_new_context()"
   ]
  },
  {
   "cell_type": "code",
   "execution_count": 8,
   "metadata": {},
   "outputs": [],
   "source": [
    "context[\"question\"] = \"\"\"\n",
    "Do you agree or disagree with the following statement?\n",
    "Governments should spend more money in support of the arts than in support of athletics such as state-sponsored Olympic teams.\n",
    "Use specific reasons and examples to support your answer.\n",
    "\"\"\""
   ]
  },
  {
   "cell_type": "code",
   "execution_count": 9,
   "metadata": {},
   "outputs": [],
   "source": [
    "context[\"answer\"] = \"\"\"\n",
    "Spending money on athletes or art masterpieces can both result in total elevation of public cultural quality. Based on the aforementioned fact, the distribution of the money cause incessant arguments since both parties need larger part of the funds. For me, I agree with the idea paying more money on preserving and restoring art pieces. Artworks ranging from the past centuries to recent decades of substantial cultural meanings reflects various perspectives and philosophies.\n",
    "\n",
    "First, because of the fragile nature of every artworks, many masterpieces are suspect to corruption and deprecation, urges the public to make relentless efforts to protect the paintings and sculptures from being eroded and destroyed. That is, the process of saving art demands massive amount of money, leaving less portion of the capital for the sports association to pay for the athletes and the workers. For example, the legendary artist Da VinCi portrayed the renowned painting \" The Mona Lisa's smile\", leading to tens of thousands of people captivated by the charm inside the masterpiece, is being preserved and maintained in Paris causing tons of money being spent.\n",
    "\n",
    "Second, artworks are paths to introspect what's really happening in the era that the art was completed. Without art pieces preserved for the later people to scrutinize and analyze the context between themselves, we cannot really understand the history and the thoughts of the past. For example, in Renaissance era, artists finished a myriad of paintings and sculptures in order to pay respect to theirs gods and the citadel. Given the historic items we discovered around this era, we can utilize the evidence we found to determine what was the mai religion of their time.\n",
    "\n",
    "Finally, spending money on sports team and competitions are futile for the human no matter the aesthetic point of view or the pragmatic counterpart. Owing to the fact that sports are participated in living people which are mostly replaceable. In sharp contrast, we cannot revive the dead artists to recreate what was accomplished centuries ago, thus we must make sure the art is preserved for the later people.\n",
    "\n",
    "In conclusion, I strongly agree with the idea of paying more money to art rather than giving money away to the sports companies.\n",
    "\"\"\""
   ]
  },
  {
   "cell_type": "code",
   "execution_count": 10,
   "metadata": {},
   "outputs": [
    {
     "name": "stdout",
     "output_type": "stream",
     "text": [
      "- The essay is well organized and well developed.\n",
      "- The writer has provided a good range of vocabulary and syntactic structures.\n",
      "- There are some minor errors in structure, word form or use of idiomatic language that do not interfere with meaning.\n",
      "- The writer has addressed the topic and task well, using appropriate and sufficient explanations, exemplifications and/or details.\n",
      "- The connection of ideas may be occasionally obscured.\n",
      "\n",
      "[Score]\n",
      "\n",
      "Raw Score: 4\n",
      "\n",
      "\n"
     ]
    }
   ],
   "source": [
    "bot_rate = await rateFunction.invoke_async(context=context)\n",
    "print(bot_rate)"
   ]
  }
 ],
 "metadata": {
  "kernelspec": {
   "display_name": ".venv",
   "language": "python",
   "name": "python3"
  },
  "language_info": {
   "codemirror_mode": {
    "name": "ipython",
    "version": 3
   },
   "file_extension": ".py",
   "mimetype": "text/x-python",
   "name": "python",
   "nbconvert_exporter": "python",
   "pygments_lexer": "ipython3",
   "version": "3.9.16"
  },
  "orig_nbformat": 4
 },
 "nbformat": 4,
 "nbformat_minor": 2
}
